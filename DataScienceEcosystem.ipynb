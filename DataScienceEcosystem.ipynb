{
 "cells": [
  {
   "cell_type": "markdown",
   "id": "31b91983-16d9-4219-afb9-57e0b9e31d6f",
   "metadata": {},
   "source": [
    "# Data Science Tools and Ecosystem"
   ]
  },
  {
   "cell_type": "markdown",
   "id": "f644d081-8b3a-434a-bca1-9d9977702c90",
   "metadata": {},
   "source": [
    "## Author:\n",
    "##### Kaustubh Patwardhan"
   ]
  },
  {
   "cell_type": "markdown",
   "id": "fb9d21b1-b96b-4889-9041-d960f20572f2",
   "metadata": {},
   "source": [
    "## In this notebook, Data Science Tools and Ecosystem are summarized."
   ]
  },
  {
   "cell_type": "markdown",
   "id": "74bee102-35e8-479e-92ae-436160e22315",
   "metadata": {},
   "source": [
    "###\n",
    "**Objectives:**\n",
    "1. Data Science Languages\n",
    "2. Data Science Libraries\n",
    "3. Data Science Tools\n",
    "4. Tables and lists\n",
    "5. Arithmetic Expressions"
   ]
  },
  {
   "cell_type": "markdown",
   "id": "ca632f3f-10c6-4eb4-a4d5-2ed0cae741e1",
   "metadata": {},
   "source": [
    "### Some of the popular languages that Data Scientists use are:\n",
    "1. Python\n",
    "2. R\n",
    "3. SQL\n"
   ]
  },
  {
   "cell_type": "markdown",
   "id": "fdee8232-5408-4640-ab5e-700a354a3e6e",
   "metadata": {},
   "source": [
    "### Some of the commonly used libraries used by Data Scientists include:\n",
    "1. NumPy\n",
    "2. Pandas\n",
    "3. Keras"
   ]
  },
  {
   "cell_type": "markdown",
   "id": "026a69d6-9f0b-4e27-a580-9669a54dcdb7",
   "metadata": {},
   "source": [
    "### \n",
    "| Data Science Tools |\n",
    "|--------------------|\n",
    "| Jupyter Notebook |\n",
    "| R |\n",
    "| SQL |\n"
   ]
  },
  {
   "cell_type": "markdown",
   "id": "59d23c43-95f1-41ea-bf57-93dcef518b3d",
   "metadata": {},
   "source": [
    "### Below are a few examples of evaluating arithmetic expressions in Python"
   ]
  },
  {
   "cell_type": "code",
   "execution_count": 2,
   "id": "79ea6f04-3827-4fe4-8e3c-9662b91f92a8",
   "metadata": {},
   "outputs": [
    {
     "data": {
      "text/plain": [
       "17"
      ]
     },
     "execution_count": 2,
     "metadata": {},
     "output_type": "execute_result"
    }
   ],
   "source": [
    "# This a simple arithmetic expression to mutiply then add integers\n",
    "(3*4)+5"
   ]
  },
  {
   "cell_type": "code",
   "execution_count": 3,
   "id": "4da8cd0b-0af9-4774-97b0-5ca9d19aeb2d",
   "metadata": {},
   "outputs": [
    {
     "data": {
      "text/plain": [
       "3.3333333333333335"
      ]
     },
     "execution_count": 3,
     "metadata": {},
     "output_type": "execute_result"
    }
   ],
   "source": [
    "# This will convert 200 minutes to hours by dividing by 60\n",
    "200 / 60"
   ]
  },
  {
   "cell_type": "code",
   "execution_count": null,
   "id": "74e17d59-920d-4807-b684-3c5242bcb1cd",
   "metadata": {},
   "outputs": [],
   "source": []
  }
 ],
 "metadata": {
  "kernelspec": {
   "display_name": "Python 3 (ipykernel)",
   "language": "python",
   "name": "python3"
  },
  "language_info": {
   "codemirror_mode": {
    "name": "ipython",
    "version": 3
   },
   "file_extension": ".py",
   "mimetype": "text/x-python",
   "name": "python",
   "nbconvert_exporter": "python",
   "pygments_lexer": "ipython3",
   "version": "3.12.8"
  }
 },
 "nbformat": 4,
 "nbformat_minor": 5
}
